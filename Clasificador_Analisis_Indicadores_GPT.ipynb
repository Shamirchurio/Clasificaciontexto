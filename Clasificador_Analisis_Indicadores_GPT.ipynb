{
 "cells": [
  {
   "cell_type": "markdown",
   "id": "07c52fc4",
   "metadata": {},
   "source": [
    "# Extracción "
   ]
  },
  {
   "cell_type": "code",
   "execution_count": 23,
   "id": "441a4e9c",
   "metadata": {},
   "outputs": [
    {
     "name": "stdout",
     "output_type": "stream",
     "text": [
      "Datos cargados correctamente:\n",
      "        Nombre proceso_x                                        Indicador_x  \\\n",
      "0  Servicio Farmacéutico           Porcentaje de medicamentos devueltos ***   \n",
      "1  Servicio Farmacéutico          Porcentaje de medicamentos devueltos ****   \n",
      "2  Servicio Farmacéutico  Porcentaje de cobertura en validación farmacéu...   \n",
      "3  Servicio Farmacéutico           Porcentaje de medicamentos devueltos ***   \n",
      "4      Gestión Ambiental  Porcentaje de residuos peligrosos administrati...   \n",
      "\n",
      "  Código Indicador_x Unidad de medida_x Periodicidad_x Finalidad_x  \\\n",
      "0       FAR0-04-03-1         Porcentaje        Mensual   Minimizar   \n",
      "1       FAR0-04-03-3         Porcentaje        Mensual   Minimizar   \n",
      "2       FAR1-03-01-1         Porcentaje        Mensual   Maximizar   \n",
      "3       FAR0-04-03-1         Porcentaje        Mensual   Minimizar   \n",
      "4       GAM0-04-06-3         Porcentaje        Mensual   Minimizar   \n",
      "\n",
      "                                           Fórmula_x  \\\n",
      "0  (( Número de medicamentos devueltos farmacia c...   \n",
      "1  (( Número de medicamentos devueltos de farmaci...   \n",
      "2  ( Número de pacientes con validación farmacéut...   \n",
      "3  (( Número de medicamentos devueltos farmacia c...   \n",
      "4  ( Residuos peligrosos administrativos **** / T...   \n",
      "\n",
      "                                         Variables_x         Análisis_x  \\\n",
      "0  Número de medicamentos devueltos farmacia cent...    Proceso estable   \n",
      "1  Número de medicamentos devueltos de farmacia c...    Proceso estable   \n",
      "2  Número de pacientes con validación farmacéutic...    proceso estable   \n",
      "3  Número de medicamentos devueltos farmacia cent...    proceso estable   \n",
      "4  Total de residuos generados **** (Kilogramos)\\...  se mantiente meta   \n",
      "\n",
      "    Semaforo  Calificación  Periodo medido  Calificacion_analisis  \n",
      "0  seguridad        129.07  Diciembre 2020                    2.0  \n",
      "1  seguridad        132.25  Diciembre 2020                    2.0  \n",
      "2  seguridad        100.00    Febrero 2021                    2.0  \n",
      "3  seguridad        126.44    Febrero 2021                    2.0  \n",
      "4  seguridad        100.00      Abril 2020                    2.0  \n"
     ]
    }
   ],
   "source": [
    "import pandas as pd\n",
    "import requests\n",
    "\n",
    "def cargar_datos_desde_github(url):\n",
    "    # Obtener los datos del archivo Excel desde GitHub\n",
    "    respuesta = requests.get(url)\n",
    "    # Asegurarse de que la petición es exitosa\n",
    "    respuesta.raise_for_status()\n",
    "    \n",
    "    # Cargar los datos en un DataFrame de pandas\n",
    "    from io import BytesIO\n",
    "    datos = pd.read_excel(BytesIO(respuesta.content))\n",
    "    \n",
    "    return datos\n",
    "\n",
    "# URL del archivo Excel en formato raw en GitHub\n",
    "url = 'https://github.com/Shamirchurio/Clasificaciontexto/raw/main/Data%20clasificada.xlsx'\n",
    "\n",
    "# Cargar datos\n",
    "try:\n",
    "    datos = cargar_datos_desde_github(url)\n",
    "    print(\"Datos cargados correctamente:\")\n",
    "    print(datos.head())  # Muestra las primeras filas del DataFrame\n",
    "except Exception as e:\n",
    "    print(\"Hubo un problema al cargar los datos:\", e)\n",
    "\n",
    "# Suponiendo que quieras trabajar con la columna 'Calificacion_analisis'\n",
    "# Aquí puedes continuar con tu análisis o manipulación de esos datos\n"
   ]
  },
  {
   "cell_type": "code",
   "execution_count": 25,
   "id": "68de85f4",
   "metadata": {},
   "outputs": [
    {
     "data": {
      "text/plain": [
       "Index(['Nombre proceso_x', 'Indicador_x', 'Código Indicador_x',\n",
       "       'Unidad de medida_x', 'Periodicidad_x', 'Finalidad_x', 'Fórmula_x',\n",
       "       'Variables_x', 'Análisis_x', 'Semaforo', 'Calificación',\n",
       "       'Periodo medido', 'Calificacion_analisis'],\n",
       "      dtype='object')"
      ]
     },
     "execution_count": 25,
     "metadata": {},
     "output_type": "execute_result"
    }
   ],
   "source": [
    "datos.columns"
   ]
  },
  {
   "cell_type": "markdown",
   "id": "496e0fa2",
   "metadata": {},
   "source": [
    "# Transformación"
   ]
  },
  {
   "cell_type": "code",
   "execution_count": 30,
   "id": "4943db19",
   "metadata": {},
   "outputs": [],
   "source": [
    "mapeo = {\n",
    "    2: 'malo',\n",
    "    1: 'bueno',\n",
    "    0: 'medio'\n",
    "}\n",
    "\n",
    "# Reemplazar los valores numéricos por las etiquetas usando el diccionario\n",
    "datos['Calificacion_analisis'] = datos['Calificacion_analisis'].replace(mapeo)"
   ]
  },
  {
   "cell_type": "code",
   "execution_count": 31,
   "id": "8284b851",
   "metadata": {},
   "outputs": [
    {
     "data": {
      "text/plain": [
       "0        malo\n",
       "1        malo\n",
       "2        malo\n",
       "3        malo\n",
       "4        malo\n",
       "        ...  \n",
       "4728    bueno\n",
       "4729    bueno\n",
       "4730    medio\n",
       "4731    bueno\n",
       "4732    bueno\n",
       "Name: Calificacion_analisis, Length: 4733, dtype: object"
      ]
     },
     "execution_count": 31,
     "metadata": {},
     "output_type": "execute_result"
    }
   ],
   "source": [
    "datos.Calificacion_analisis"
   ]
  },
  {
   "cell_type": "markdown",
   "id": "49c0f710",
   "metadata": {},
   "source": [
    "# Conexión API GPT"
   ]
  },
  {
   "cell_type": "code",
   "execution_count": 18,
   "id": "4e74739e",
   "metadata": {},
   "outputs": [
    {
     "name": "stdout",
     "output_type": "stream",
     "text": [
      "Collecting openai==1.2.0\n",
      "  Downloading openai-1.2.0-py3-none-any.whl (219 kB)\n",
      "Requirement already satisfied: tqdm>4 in c:\\users\\usuario\\anaconda3\\lib\\site-packages (from openai==1.2.0) (4.64.0)\n",
      "Requirement already satisfied: anyio<4,>=3.5.0 in c:\\users\\usuario\\anaconda3\\lib\\site-packages (from openai==1.2.0) (3.5.0)\n",
      "Requirement already satisfied: pydantic<3,>=1.9.0 in c:\\users\\usuario\\anaconda3\\lib\\site-packages (from openai==1.2.0) (1.10.9)\n",
      "Requirement already satisfied: httpx<1,>=0.23.0 in c:\\users\\usuario\\anaconda3\\lib\\site-packages (from openai==1.2.0) (0.27.0)\n",
      "Requirement already satisfied: typing-extensions<5,>=4.5 in c:\\users\\usuario\\anaconda3\\lib\\site-packages (from openai==1.2.0) (4.7.1)\n",
      "Requirement already satisfied: distro<2,>=1.7.0 in c:\\users\\usuario\\anaconda3\\lib\\site-packages (from openai==1.2.0) (1.9.0)\n",
      "Requirement already satisfied: idna>=2.8 in c:\\users\\usuario\\anaconda3\\lib\\site-packages (from anyio<4,>=3.5.0->openai==1.2.0) (3.3)\n",
      "Requirement already satisfied: sniffio>=1.1 in c:\\users\\usuario\\anaconda3\\lib\\site-packages (from anyio<4,>=3.5.0->openai==1.2.0) (1.2.0)\n",
      "Requirement already satisfied: httpcore==1.* in c:\\users\\usuario\\anaconda3\\lib\\site-packages (from httpx<1,>=0.23.0->openai==1.2.0) (1.0.5)\n",
      "Requirement already satisfied: certifi in c:\\users\\usuario\\anaconda3\\lib\\site-packages (from httpx<1,>=0.23.0->openai==1.2.0) (2021.10.8)\n",
      "Requirement already satisfied: h11<0.15,>=0.13 in c:\\users\\usuario\\anaconda3\\lib\\site-packages (from httpcore==1.*->httpx<1,>=0.23.0->openai==1.2.0) (0.14.0)\n",
      "Requirement already satisfied: colorama in c:\\users\\usuario\\anaconda3\\lib\\site-packages (from tqdm>4->openai==1.2.0) (0.4.4)\n",
      "Installing collected packages: openai\n",
      "  Attempting uninstall: openai\n",
      "    Found existing installation: openai 1.1.1\n",
      "    Uninstalling openai-1.1.1:\n",
      "      Successfully uninstalled openai-1.1.1\n",
      "Successfully installed openai-1.2.0\n"
     ]
    }
   ],
   "source": [
    "!pip install openai==1.2.0"
   ]
  },
  {
   "cell_type": "code",
   "execution_count": 3,
   "id": "5e6a7fa9",
   "metadata": {},
   "outputs": [],
   "source": [
    "from openai import OpenAI\n",
    "client = OpenAI(api_key=\"api\")\n",
    "\n",
    "response = client.chat.completions.create(\n",
    "  model=\"gpt-3.5-turbo\",\n",
    "  messages=[\n",
    "    {\n",
    "      \"role\": \"user\",\n",
    "      \"content\": \"\"\n",
    "    }\n",
    "  ],\n",
    "  temperature=1,\n",
    "  max_tokens=256,\n",
    "  top_p=1,\n",
    "  frequency_penalty=0,\n",
    "  presence_penalty=0\n",
    ")"
   ]
  },
  {
   "cell_type": "code",
   "execution_count": 32,
   "id": "fefe1644",
   "metadata": {},
   "outputs": [
    {
     "name": "stdout",
     "output_type": "stream",
     "text": [
      "Clasificación: bueno\n"
     ]
    }
   ],
   "source": [
    "def clasificar_calidad_analisis(analisis):\n",
    "    # Ejemplos de clasificación para guiar al modelo\n",
    "    prompt = f\"\"\"\n",
    "    Clasifica los siguientes análisis de indicadores:\n",
    "    \n",
    "    \n",
    "    Análisis:\"{datos.Análisis_x}\" Clasificación:{datos.Calificacion_analisis} \n",
    "    Análisis: \"{analisis}\" Clasificación:\n",
    "    \"\"\"\n",
    "    \n",
    "    respuesta = client.chat.completions.create(\n",
    "        \n",
    "        model=\"gpt-3.5-turbo\",  # Cambia según tu acceso y necesidades\n",
    "        messages=[\n",
    "            {\n",
    "              \"role\": \"user\",\n",
    "              \"content\": prompt\n",
    "            }\n",
    "          ],\n",
    "        max_tokens=60\n",
    "        )\n",
    "    \n",
    "    # Extraer y devolver la clasificación de la respuesta\n",
    "    return respuesta.choices[0].message.content\n",
    "\n",
    "# Ejemplo de uso\n",
    "analisis = \"La variación del indicador este mes no muestra una mejora significativa, aunque se mantiene estable.\"\n",
    "clasificacion = clasificar_calidad_analisis(analisis)\n",
    "print(\"Clasificación:\", clasificacion)"
   ]
  },
  {
   "cell_type": "markdown",
   "id": "8050bd66",
   "metadata": {},
   "source": [
    "# Text"
   ]
  },
  {
   "cell_type": "code",
   "execution_count": 37,
   "id": "252107a3",
   "metadata": {},
   "outputs": [
    {
     "name": "stdout",
     "output_type": "stream",
     "text": [
      "Clasificación: Clasificación: malo\n"
     ]
    }
   ],
   "source": [
    "analisis = \"baja operación\"\n",
    "clasificacion = clasificar_calidad_analisis(analisis)\n",
    "print(\"Clasificación:\", clasificacion)"
   ]
  }
 ],
 "metadata": {
  "kernelspec": {
   "display_name": "Python 3",
   "language": "python",
   "name": "python3"
  },
  "language_info": {
   "codemirror_mode": {
    "name": "ipython",
    "version": 3
   },
   "file_extension": ".py",
   "mimetype": "text/x-python",
   "name": "python",
   "nbconvert_exporter": "python",
   "pygments_lexer": "ipython3",
   "version": "3.8.5"
  }
 },
 "nbformat": 4,
 "nbformat_minor": 5
}
