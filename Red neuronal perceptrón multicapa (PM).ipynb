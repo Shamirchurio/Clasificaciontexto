{
  "nbformat": 4,
  "nbformat_minor": 0,
  "metadata": {
    "colab": {
      "provenance": []
    },
    "kernelspec": {
      "name": "python3",
      "display_name": "Python 3"
    },
    "language_info": {
      "name": "python"
    }
  },
  "cells": [
    {
      "cell_type": "markdown",
      "source": [
        "# Red neuronal perceptrón multicapa (PM)"
      ],
      "metadata": {
        "id": "6LqYUgh0GSPf"
      }
    },
    {
      "cell_type": "code",
      "source": [
        "from google.colab import drive\n",
        "drive.mount('/content/drive')"
      ],
      "metadata": {
        "colab": {
          "base_uri": "https://localhost:8080/"
        },
        "id": "NqpE7h4Vdec6",
        "outputId": "822a6be5-940c-4d28-bb3c-65f42134f16f"
      },
      "execution_count": null,
      "outputs": [
        {
          "output_type": "stream",
          "name": "stdout",
          "text": [
            "Mounted at /content/drive\n"
          ]
        }
      ]
    },
    {
      "cell_type": "code",
      "source": [
        "import pandas as pd\n",
        "import numpy as np\n",
        "import re\n",
        "import nltk #NLP\n",
        "nltk.download('stopwords') #NLP\n",
        "nltk.download('punkt') #NLP\n",
        "from nltk.corpus import stopwords #NLP\n",
        "from gensim.utils import simple_preprocess#NLP\n",
        "from nltk.stem.snowball import SnowballStemmer #NLP\n",
        "from sklearn.feature_extraction.text import TfidfVectorizer #NLP\n",
        "from tensorflow.keras.utils import to_categorical\n",
        "import tensorflow as tf"
      ],
      "metadata": {
        "colab": {
          "base_uri": "https://localhost:8080/"
        },
        "id": "9Xt_-7ZldZJe",
        "outputId": "205a788e-71ed-4d08-f7d9-f97e3b8e3b53"
      },
      "execution_count": null,
      "outputs": [
        {
          "output_type": "stream",
          "name": "stderr",
          "text": [
            "[nltk_data] Downloading package stopwords to /root/nltk_data...\n",
            "[nltk_data]   Unzipping corpora/stopwords.zip.\n",
            "[nltk_data] Downloading package punkt to /root/nltk_data...\n",
            "[nltk_data]   Unzipping tokenizers/punkt.zip.\n"
          ]
        }
      ]
    },
    {
      "cell_type": "markdown",
      "source": [
        "Se procede a hacer limpieza de la data quitando palabras vacias y hacer stem"
      ],
      "metadata": {
        "id": "l5kDwKq9fSLN"
      }
    },
    {
      "cell_type": "code",
      "source": [
        "data_et = pd.read_excel('/content/drive/MyDrive/Maestria MAD/4 Semestre/Proyecto de tésis/Data sin clasificar.xlsx') #Shamir\n",
        "data_en = pd.read_excel('/content/drive/MyDrive/Maestria MAD/4 Semestre/Proyecto de tésis/Data clasificada.xlsx') #Shamir"
      ],
      "metadata": {
        "id": "h7yx77TJdyTl"
      },
      "execution_count": null,
      "outputs": []
    },
    {
      "cell_type": "code",
      "source": [
        "data_et=data_et[['Calificación','Análisis_x']][0:4000]\n",
        "data_en= data_en[['Análisis_x','Calificacion_analisis']]"
      ],
      "metadata": {
        "id": "2Eyo8r2pCzQ5"
      },
      "execution_count": null,
      "outputs": []
    },
    {
      "cell_type": "code",
      "source": [
        "Texto=data_et['Análisis_x']\n",
        "Texto1=data_en['Análisis_x']"
      ],
      "metadata": {
        "id": "7paUVVJifK3F"
      },
      "execution_count": null,
      "outputs": []
    },
    {
      "cell_type": "markdown",
      "source": [
        "## Eliminación de ruido"
      ],
      "metadata": {
        "id": "3xfteaLDGkhf"
      }
    },
    {
      "cell_type": "code",
      "source": [
        "\n",
        "processed_text0 = []\n",
        "\n",
        "url = ('http[s]?://(?:[a-zA-Z]|[0-9]|[$-_@.&+]|'\n",
        "        '[!*\\(\\),]|(?:%[0-9a-fA-F][0-9a-fA-F]))+')\n",
        "menciones = '@[\\w\\-]+'\n",
        "hashtag = '#[\\w\\-]+'\n",
        "#caracteres_especiales = r'\\W'\n",
        "caracter_individual=r'\\s+[a-zA-Z]\\s+'\n",
        "caracter_individual_inicio= r'\\^[a-zA-Z]\\s+'\n",
        "varios_espacios= r'\\s+'\n",
        "prefijo_b = r'^b\\s+'\n",
        "\n",
        "for t in Texto:\n",
        "    texto_procesado = t.lower()  #Convertir a minúsculas\n",
        "    texto_procesado = re.sub(menciones, ' ', texto_procesado)\n",
        "    texto_procesado = re.sub(hashtag, ' ', texto_procesado)\n",
        "    texto_procesado = re.sub(url, ' ', texto_procesado)\n",
        "    #texto_procesado = re.sub(caracteres_especiales, ' ', texto_procesado)\n",
        "    texto_procesado = re.sub(caracter_individual, ' ', texto_procesado)\n",
        "    texto_procesado = re.sub(caracter_individual_inicio, ' ', texto_procesado) \n",
        "    texto_procesado = re.sub(prefijo_b, '', texto_procesado)\n",
        "    texto_procesado = re.sub(varios_espacios, ' ', texto_procesado, flags=re.I)\n",
        "    texto_procesado= re.sub(\"á\",'a',texto_procesado)\n",
        "    texto_procesado= re.sub(\"é\",'e',texto_procesado)\n",
        "    texto_procesado= re.sub(\"í\",'i',texto_procesado)\n",
        "    texto_procesado= re.sub(\"ó\",'o',texto_procesado)\n",
        "    texto_procesado= re.sub(\"ú\",'u',texto_procesado)\n",
        "    texto_procesado= re.sub(\"ñ\",'n',texto_procesado)\n",
        "    texto_procesado= re.sub(\"'\",'',texto_procesado)\n",
        "\n",
        "    processed_text0.append(texto_procesado)   #agregar a la lista de tweets procesados\n",
        "\n",
        "processed_text1 = []\n",
        "for t in Texto1:\n",
        "    texto_procesado = t.lower()  #Convertir a minúsculas\n",
        "    texto_procesado = re.sub(menciones, ' ', texto_procesado)\n",
        "    texto_procesado = re.sub(hashtag, ' ', texto_procesado)\n",
        "    texto_procesado = re.sub(url, ' ', texto_procesado)\n",
        "    #texto_procesado = re.sub(caracteres_especiales, ' ', texto_procesado)\n",
        "    texto_procesado = re.sub(caracter_individual, ' ', texto_procesado)\n",
        "    texto_procesado = re.sub(caracter_individual_inicio, ' ', texto_procesado) \n",
        "    texto_procesado = re.sub(prefijo_b, '', texto_procesado)\n",
        "    texto_procesado = re.sub(varios_espacios, ' ', texto_procesado, flags=re.I)\n",
        "    texto_procesado= re.sub(\"á\",'a',texto_procesado)\n",
        "    texto_procesado= re.sub(\"é\",'e',texto_procesado)\n",
        "    texto_procesado= re.sub(\"í\",'i',texto_procesado)\n",
        "    texto_procesado= re.sub(\"ó\",'o',texto_procesado)\n",
        "    texto_procesado= re.sub(\"ú\",'u',texto_procesado)\n",
        "    texto_procesado= re.sub(\"ñ\",'n',texto_procesado)\n",
        "    texto_procesado= re.sub(\"'\",'',texto_procesado)\n",
        "\n",
        "    processed_text1.append(texto_procesado)   #agregar a la lista de tweets procesados"
      ],
      "metadata": {
        "id": "xZ2bX6_EfZ25"
      },
      "execution_count": null,
      "outputs": []
    },
    {
      "cell_type": "markdown",
      "source": [
        "## Eliminacion de stop words"
      ],
      "metadata": {
        "id": "xU79722KGo9u"
      }
    },
    {
      "cell_type": "code",
      "source": [
        "stop_words = stopwords.words('spanish')"
      ],
      "metadata": {
        "id": "8XkX0qHtfZ8p"
      },
      "execution_count": null,
      "outputs": []
    },
    {
      "cell_type": "code",
      "source": [
        "def remove_stopwords(texts):\n",
        "    return [[word for word in simple_preprocess(str(doc)) \n",
        "             if word not in stop_words] for doc in texts]"
      ],
      "metadata": {
        "id": "g8Irb_i0f_KF"
      },
      "execution_count": null,
      "outputs": []
    },
    {
      "cell_type": "code",
      "source": [
        "processed_text= processed_text0+processed_text1"
      ],
      "metadata": {
        "id": "ILgSk-S5N2UH"
      },
      "execution_count": null,
      "outputs": []
    },
    {
      "cell_type": "code",
      "source": [
        "data_words = remove_stopwords(processed_text)"
      ],
      "metadata": {
        "id": "EBO4XflWgI-T"
      },
      "execution_count": null,
      "outputs": []
    },
    {
      "cell_type": "markdown",
      "source": [
        "## Stem"
      ],
      "metadata": {
        "id": "87CdcgKagTpC"
      }
    },
    {
      "cell_type": "code",
      "source": [
        "def tokenize_and_stem(text):\n",
        "    # first tokenize by sentence, then by word to ensure that punctuation is caught as it's own token\n",
        "    #tokens = [word for sent in nltk.sent_tokenize(text) for word in nltk.word_tokenize(sent)]\n",
        "    filtered_tokens = []\n",
        "    # filter out any tokens not containing letters (e.g., numeric tokens, raw punctuation)\n",
        "    for token in text:\n",
        "        if re.search('[a-zA-Z]', token):\n",
        "            filtered_tokens.append(token)\n",
        "    stems = [stemmer.stem(t) for t in filtered_tokens]\n",
        "    return stems\n",
        "\n",
        "\n",
        "def tokenize_only(text):\n",
        "    # first tokenize by sentence, then by word to ensure that punctuation is caught as it's own token\n",
        "    tokens = [word.lower() for sent in nltk.sent_tokenize(text) for word in nltk.word_tokenize(sent)]\n",
        "    filtered_tokens = []\n",
        "    # filter out any tokens not containing letters (e.g., numeric tokens, raw punctuation)\n",
        "    for token in tokens:\n",
        "        if re.search('[a-zA-Z]', token):\n",
        "            filtered_tokens.append(token)\n",
        "    return filtered_tokens\n"
      ],
      "metadata": {
        "id": "6_AvYG3SgUyL"
      },
      "execution_count": null,
      "outputs": []
    },
    {
      "cell_type": "code",
      "source": [
        "stemmer = SnowballStemmer(\"spanish\")\n",
        "#not super pythonic, no, not at all.\n",
        "#use extend so it's a big flat list of vocab\n",
        "totalvocab_stemmed = []\n",
        "totalvocab_tokenized = []\n",
        "for i in data_words:\n",
        "    allwords_stemmed = tokenize_and_stem(i) #for each item in 'synopses', tokenize/stem\n",
        "    totalvocab_stemmed.extend(allwords_stemmed) #extend the 'totalvocab_stemmed' list\n"
      ],
      "metadata": {
        "id": "GGd9UbDSgYiC"
      },
      "execution_count": null,
      "outputs": []
    },
    {
      "cell_type": "code",
      "source": [
        "tfidf_vectorizer = TfidfVectorizer(max_df=0.8, max_features=20000,\n",
        "                                 min_df=0.2, stop_words=None,\n",
        "                                 use_idf=True, tokenizer=tokenize_and_stem, ngram_range=(1,2))\n",
        "\n",
        "%time tfidf_matrix = tfidf_vectorizer.fit_transform(processed_text) #fit the vectorizer to synopses"
      ],
      "metadata": {
        "colab": {
          "base_uri": "https://localhost:8080/"
        },
        "id": "fqgKSb4HgibL",
        "outputId": "badfe2cf-b56c-46b3-81ea-140a261f69f7"
      },
      "execution_count": null,
      "outputs": [
        {
          "output_type": "stream",
          "name": "stdout",
          "text": [
            "CPU times: user 27.7 s, sys: 105 ms, total: 27.8 s\n",
            "Wall time: 30.1 s\n"
          ]
        }
      ]
    },
    {
      "cell_type": "code",
      "source": [
        "tdidf=tfidf_matrix[:4000].toarray()\n",
        "tdidf1=tfidf_matrix[4000:].toarray()"
      ],
      "metadata": {
        "id": "1ygYJeVQgrrN"
      },
      "execution_count": null,
      "outputs": []
    },
    {
      "cell_type": "code",
      "source": [
        "data_et['TDIDF']=[x for x in tdidf]\n",
        "data_en['TDIDF']=[x for x in tdidf1]"
      ],
      "metadata": {
        "id": "cV6KW8ykg2N7"
      },
      "execution_count": null,
      "outputs": []
    },
    {
      "cell_type": "code",
      "source": [
        "ent=data_en[['Calificacion_analisis', 'TDIDF']]\n",
        "pru = data_et['TDIDF']\n",
        "pru=tf.stack(pru)"
      ],
      "metadata": {
        "id": "HmWSjVbiiw85"
      },
      "execution_count": null,
      "outputs": []
    },
    {
      "cell_type": "code",
      "source": [
        "train_labe = to_categorical(ent['Calificacion_analisis'])"
      ],
      "metadata": {
        "id": "qzxcegMMw3P7"
      },
      "execution_count": null,
      "outputs": []
    },
    {
      "cell_type": "code",
      "source": [
        "train_labe = tf.stack(train_labe)\n",
        "test_data = tf.stack(data_en['TDIDF'])"
      ],
      "metadata": {
        "id": "KKBOzCcQ2aLR"
      },
      "execution_count": null,
      "outputs": []
    },
    {
      "cell_type": "markdown",
      "source": [
        "## Aplicar los hiperparametros encontrados"
      ],
      "metadata": {
        "id": "Hoj6PSFXWlOS"
      }
    },
    {
      "cell_type": "markdown",
      "source": [
        "Después de realizar la busqueda de Hyperparametros en busqueda en grilla se tienen en cuenta los siguientes hyperparametro\n"
      ],
      "metadata": {
        "id": "3cT0ezOqWtjk"
      }
    },
    {
      "cell_type": "code",
      "source": [
        "data_en['Análisis_x']=processed_text1\n",
        "data_et['Análisis_x']=processed_text0"
      ],
      "metadata": {
        "id": "sVdnwnWLTJsA"
      },
      "execution_count": null,
      "outputs": []
    },
    {
      "cell_type": "code",
      "execution_count": null,
      "metadata": {
        "id": "bhCpUxwdWgHA"
      },
      "outputs": [],
      "source": [
        "Hyper={'activation1': 'relu',\n",
        " 'activation2': 'sigmoid',\n",
        " 'batch_size': 50,\n",
        " 'dropout_rate': 0.0,\n",
        " 'epochs': 50,\n",
        " 'learn_rate': 0.01,\n",
        " 'neurons1': 150,\n",
        " 'neurons2': 70}"
      ]
    },
    {
      "cell_type": "markdown",
      "source": [
        "Se crea función para crear red neuronal "
      ],
      "metadata": {
        "id": "8SCbnTwKYhIc"
      }
    },
    {
      "cell_type": "code",
      "source": [
        "from tensorflow.keras.models import Sequential\n",
        "from tensorflow.keras.layers import Dense, Dropout\n",
        "from tensorflow.keras import regularizers\n",
        "from tensorflow.keras.wrappers.scikit_learn import KerasClassifier\n",
        "from tensorflow.keras import metrics"
      ],
      "metadata": {
        "id": "-y6dhJ_RYwfb"
      },
      "execution_count": null,
      "outputs": []
    },
    {
      "cell_type": "code",
      "source": [
        "def create_network(optimizer='rmsprop',neurons1=16, neurons2=16,epochs=50, batch_size=5,\n",
        "                     learn_rate=0.1,  dropout_rate=0.0, activation1='relu',activation2='relu'):\n",
        "    model = Sequential()\n",
        "    model.add(Dense(neurons1,\n",
        "                    input_shape=(114,),\n",
        "                    activation=activation1,\n",
        "                    kernel_regularizer=regularizers.l2(0.01)))\n",
        "    model.add(Dense(neurons2, activation=activation2))\n",
        "    model.add(Dense(3, activation='softmax'))\n",
        "\n",
        "    model.compile(loss = 'categorical_crossentropy',\n",
        "                optimizer=optimizer,\n",
        "                metrics=['accuracy',tf.keras.metrics.Precision()])           \n",
        "    \n",
        "    #model.compile(loss = tf.keras.losses.SparseCategoricalCrossentropy(from_logits=False),\n",
        "    #            optimizer=optimizer,\n",
        "    #            metrics=['accuracy'])\n",
        "    return model"
      ],
      "metadata": {
        "id": "R8ulpoHLYpLI"
      },
      "execution_count": null,
      "outputs": []
    },
    {
      "cell_type": "code",
      "source": [
        "test_data.shape"
      ],
      "metadata": {
        "colab": {
          "base_uri": "https://localhost:8080/"
        },
        "id": "9MoW0Gzbl89f",
        "outputId": "1649b764-8c2d-4eea-cc48-4162384acf1e"
      },
      "execution_count": null,
      "outputs": [
        {
          "output_type": "execute_result",
          "data": {
            "text/plain": [
              "TensorShape([4733, 114])"
            ]
          },
          "metadata": {},
          "execution_count": 43
        }
      ]
    },
    {
      "cell_type": "code",
      "source": [
        "train_labe.shape"
      ],
      "metadata": {
        "colab": {
          "base_uri": "https://localhost:8080/"
        },
        "id": "Mk_ggzTDnL8O",
        "outputId": "cf338549-f415-4b39-994d-e5e69f722def"
      },
      "execution_count": null,
      "outputs": [
        {
          "output_type": "execute_result",
          "data": {
            "text/plain": [
              "TensorShape([4733, 3])"
            ]
          },
          "metadata": {},
          "execution_count": 44
        }
      ]
    },
    {
      "cell_type": "code",
      "source": [
        "Model1 = create_network(**Hyper)\n",
        "history = Model1.fit(test_data,train_labe,epochs=50,verbose=0)"
      ],
      "metadata": {
        "id": "qBPSsfBQZ-Fx"
      },
      "execution_count": null,
      "outputs": []
    },
    {
      "cell_type": "code",
      "source": [
        "predict_prob = Model1.predict(pru)\n",
        "predict_classes=np.argmax(predict_prob,axis=1)"
      ],
      "metadata": {
        "id": "OabinF1t65PZ"
      },
      "execution_count": null,
      "outputs": []
    },
    {
      "cell_type": "code",
      "source": [
        "tf.keras.metrics.SparseCategoricalAccuracy(\n",
        "      name='test_accuracy')"
      ],
      "metadata": {
        "colab": {
          "base_uri": "https://localhost:8080/"
        },
        "id": "gJI5vFjS4N5-",
        "outputId": "9bab30de-8b39-4dbd-93b1-a9091ab72aaa"
      },
      "execution_count": null,
      "outputs": [
        {
          "output_type": "execute_result",
          "data": {
            "text/plain": [
              "<keras.metrics.SparseCategoricalAccuracy at 0x7f00876b8810>"
            ]
          },
          "metadata": {},
          "execution_count": 63
        }
      ]
    },
    {
      "cell_type": "code",
      "source": [
        "history.history.keys()"
      ],
      "metadata": {
        "colab": {
          "base_uri": "https://localhost:8080/"
        },
        "id": "wdLI7i4v-WQF",
        "outputId": "36057e1c-a487-4030-c889-cc6366e28eca"
      },
      "execution_count": null,
      "outputs": [
        {
          "output_type": "execute_result",
          "data": {
            "text/plain": [
              "dict_keys(['loss', 'accuracy', 'precision'])"
            ]
          },
          "metadata": {},
          "execution_count": 68
        }
      ]
    },
    {
      "cell_type": "code",
      "source": [
        "import statistics ##promedio listas\n",
        "print('accuracy=',statistics.mean(history.history['accuracy']))\n",
        "print('precision=',statistics.mean(history.history['precision']))"
      ],
      "metadata": {
        "colab": {
          "base_uri": "https://localhost:8080/"
        },
        "id": "uMIYyY5EO9B3",
        "outputId": "07f0769b-fe42-466a-a40d-e053ff5f1fb0"
      },
      "execution_count": null,
      "outputs": [
        {
          "output_type": "stream",
          "name": "stdout",
          "text": [
            "accuracy= 0.8720726829767227\n",
            "precision= 0.8876558673381806\n"
          ]
        }
      ]
    }
  ]
}